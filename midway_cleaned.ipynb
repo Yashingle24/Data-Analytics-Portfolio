{
 "cells": [
  {
   "cell_type": "markdown",
   "id": "4eebf04b",
   "metadata": {},
   "source": [
    "# 📦 Supply Chain Management Analysis"
   ]
  },
  {
   "cell_type": "markdown",
   "id": "e7bae111",
   "metadata": {},
   "source": [
    "## 1. 📚 Importing Libraries"
   ]
  },
  {
   "cell_type": "code",
   "execution_count": null,
   "id": "d1649bb5",
   "metadata": {},
   "outputs": [],
   "source": [
    "import pandas as pd\n",
    "import numpy as np\n",
    "import matplotlib.pyplot as plt\n",
    "import seaborn as sns\n",
    "import warnings\n",
    "warnings.filterwarnings('ignore')"
   ]
  },
  {
   "cell_type": "markdown",
   "id": "d5ddfb68",
   "metadata": {},
   "source": [
    "## 2. 📂 Loading the Dataset"
   ]
  },
  {
   "cell_type": "code",
   "execution_count": null,
   "id": "7558cae4",
   "metadata": {},
   "outputs": [],
   "source": [
    "# Load the dataset (adjust path if needed)\n",
    "data = pd.read_csv('supply_chain_data.csv')\n",
    "data.head()"
   ]
  },
  {
   "cell_type": "markdown",
   "id": "a004d33d",
   "metadata": {},
   "source": [
    "## 3. 🧾 Initial Data Overview"
   ]
  },
  {
   "cell_type": "code",
   "execution_count": null,
   "id": "d91c9c72",
   "metadata": {},
   "outputs": [],
   "source": [
    "data.info()"
   ]
  },
  {
   "cell_type": "code",
   "execution_count": null,
   "id": "f90e4436",
   "metadata": {},
   "outputs": [],
   "source": [
    "data.describe()"
   ]
  },
  {
   "cell_type": "code",
   "execution_count": null,
   "id": "42f61b5e",
   "metadata": {},
   "outputs": [],
   "source": [
    "data.isnull().sum()"
   ]
  },
  {
   "cell_type": "markdown",
   "id": "f40fa908",
   "metadata": {},
   "source": [
    "## 4. 📊 Exploratory Data Analysis (EDA)"
   ]
  },
  {
   "cell_type": "code",
   "execution_count": null,
   "id": "97e1a333",
   "metadata": {},
   "outputs": [],
   "source": [
    "# Example: Count of unique categories in a column\n",
    "if 'Category' in data.columns:\n",
    "    data['Category'].value_counts().plot(kind='bar', figsize=(10, 5), title='Product Category Distribution')\n",
    "    plt.xlabel('Category')\n",
    "    plt.ylabel('Count')\n",
    "    plt.show()"
   ]
  },
  {
   "cell_type": "markdown",
   "id": "13c38ab4",
   "metadata": {},
   "source": [
    "## 5. 🧹 Data Cleaning & Preprocessing"
   ]
  },
  {
   "cell_type": "code",
   "execution_count": null,
   "id": "ed265e8b",
   "metadata": {},
   "outputs": [],
   "source": [
    "# Example placeholder - Replace with actual preprocessing\n",
    "# e.g., handling missing values, encoding categories, etc."
   ]
  },
  {
   "cell_type": "markdown",
   "id": "ede7c4d3",
   "metadata": {},
   "source": [
    "## 6. 🤖 Model Building"
   ]
  },
  {
   "cell_type": "code",
   "execution_count": null,
   "id": "27dbbe83",
   "metadata": {},
   "outputs": [],
   "source": [
    "# Example model building steps\n",
    "from sklearn.model_selection import train_test_split\n",
    "from sklearn.ensemble import RandomForestClassifier\n",
    "from sklearn.metrics import classification_report, accuracy_score\n",
    "\n",
    "# Assume 'target' is the target column, and rest are features\n",
    "X = data.drop('target', axis=1, errors='ignore')\n",
    "y = data['target'] if 'target' in data else None\n",
    "\n",
    "# If target exists, proceed\n",
    "if y is not None:\n",
    "    X_train, X_test, y_train, y_test = train_test_split(X, y, test_size=0.2, random_state=42)\n",
    "    model = RandomForestClassifier()\n",
    "    model.fit(X_train, y_train)\n",
    "    y_pred = model.predict(X_test)\n",
    "    print(\"Accuracy:\", accuracy_score(y_test, y_pred))\n",
    "    print(classification_report(y_test, y_pred))"
   ]
  },
  {
   "cell_type": "markdown",
   "id": "4d1ce362",
   "metadata": {},
   "source": [
    "## 7. 📌 Summary & Observations"
   ]
  },
  {
   "cell_type": "markdown",
   "id": "767fb36e",
   "metadata": {},
   "source": [
    "- Cleaned and structured dataset.\n",
    "- Ran exploratory analysis.\n",
    "- Built a sample classification model.\n",
    "\n",
    "👉 Replace example parts with your actual model logic and dataset-specific targets/features."
   ]
  }
 ],
 "metadata": {
  "colab": {
   "provenance": []
  },
  "kernelspec": {
   "display_name": "Python 3",
   "language": "python",
   "name": "python3"
  },
  "language_info": {
   "codemirror_mode": {
    "name": "ipython",
    "version": 3
   },
   "file_extension": ".py",
   "mimetype": "text/x-python",
   "name": "python",
   "nbconvert_exporter": "python",
   "pygments_lexer": "ipython3",
   "version": "3.13.2"
  }
 },
 "nbformat": 4,
 "nbformat_minor": 5
}
